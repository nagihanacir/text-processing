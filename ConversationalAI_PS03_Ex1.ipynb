{
  "nbformat": 4,
  "nbformat_minor": 0,
  "metadata": {
    "colab": {
      "provenance": []
    },
    "kernelspec": {
      "name": "python3",
      "display_name": "Python 3"
    },
    "language_info": {
      "name": "python"
    }
  },
  "cells": [
    {
      "cell_type": "code",
      "execution_count": 1,
      "metadata": {
        "id": "ziZ3s-O2SVn0",
        "colab": {
          "base_uri": "https://localhost:8080/",
          "height": 0
        },
        "outputId": "ade5af42-af68-48ad-dae7-f8eeef696085"
      },
      "outputs": [
        {
          "output_type": "stream",
          "name": "stdout",
          "text": [
            "Requirement already satisfied: nltk in /usr/local/lib/python3.10/dist-packages (3.8.1)\n",
            "Requirement already satisfied: click in /usr/local/lib/python3.10/dist-packages (from nltk) (8.1.7)\n",
            "Requirement already satisfied: joblib in /usr/local/lib/python3.10/dist-packages (from nltk) (1.4.2)\n",
            "Requirement already satisfied: regex>=2021.8.3 in /usr/local/lib/python3.10/dist-packages (from nltk) (2024.9.11)\n",
            "Requirement already satisfied: tqdm in /usr/local/lib/python3.10/dist-packages (from nltk) (4.66.6)\n"
          ]
        }
      ],
      "source": [
        "!pip install nltk"
      ]
    },
    {
      "cell_type": "code",
      "source": [
        "from nltk.tokenize import word_tokenize\n",
        "from nltk.probability import FreqDist\n"
      ],
      "metadata": {
        "id": "LqvA0GbARyR_"
      },
      "execution_count": 3,
      "outputs": []
    },
    {
      "cell_type": "code",
      "source": [
        "text = \"\"\"Natural language processing (NLP) is a fascinating area of artificial intelligence.\n",
        "It involves making sense of language data. Text tokenization is a critical part of NLP.\n",
        "Through tokenization, we break down text into individual elements or tokens.\"\"\"\n"
      ],
      "metadata": {
        "id": "PAP2SAu9Rydh"
      },
      "execution_count": 4,
      "outputs": []
    },
    {
      "cell_type": "code",
      "source": [
        "#Tokenizing the text\n",
        "import nltk\n",
        "nltk.download('punkt')\n",
        "from nltk.tokenize import word_tokenize\n",
        "\n",
        "text = \"\"\"Natural language processing (NLP) is a fascinating area of artificial intelligence.\n",
        "It involves making sense of language data. Text tokenization is a critical part of NLP.\n",
        "Through tokenization, we break down text into individual elements or tokens.\"\"\"\n",
        "\n",
        "tokens = word_tokenize(text)\n",
        "print(\"Tokens:\", tokens)"
      ],
      "metadata": {
        "colab": {
          "base_uri": "https://localhost:8080/",
          "height": 0
        },
        "id": "L5Onq7AkRyoF",
        "outputId": "633287a9-13ec-4e8d-a779-f8002544f96c"
      },
      "execution_count": 8,
      "outputs": [
        {
          "output_type": "stream",
          "name": "stdout",
          "text": [
            "Tokens: ['Natural', 'language', 'processing', '(', 'NLP', ')', 'is', 'a', 'fascinating', 'area', 'of', 'artificial', 'intelligence', '.', 'It', 'involves', 'making', 'sense', 'of', 'language', 'data', '.', 'Text', 'tokenization', 'is', 'a', 'critical', 'part', 'of', 'NLP', '.', 'Through', 'tokenization', ',', 'we', 'break', 'down', 'text', 'into', 'individual', 'elements', 'or', 'tokens', '.']\n"
          ]
        },
        {
          "output_type": "stream",
          "name": "stderr",
          "text": [
            "[nltk_data] Downloading package punkt to /root/nltk_data...\n",
            "[nltk_data]   Package punkt is already up-to-date!\n"
          ]
        }
      ]
    },
    {
      "cell_type": "code",
      "source": [
        "#Count the Number of Tokens\n",
        "num_tokens = len(tokens)\n",
        "print(\"Number of tokens:\", num_tokens)\n"
      ],
      "metadata": {
        "colab": {
          "base_uri": "https://localhost:8080/",
          "height": 0
        },
        "id": "14X4Pe3LTRJg",
        "outputId": "cf9f07ae-f540-437d-d6d9-2100396de5d5"
      },
      "execution_count": 10,
      "outputs": [
        {
          "output_type": "stream",
          "name": "stdout",
          "text": [
            "Number of tokens: 44\n"
          ]
        }
      ]
    },
    {
      "cell_type": "code",
      "source": [
        "#Identify Token Frequencies:\n",
        "frequency_dist = FreqDist(tokens)\n",
        "print(\"Token frequencies:\", frequency_dist.most_common())\n"
      ],
      "metadata": {
        "colab": {
          "base_uri": "https://localhost:8080/",
          "height": 0
        },
        "id": "WmwfQFLmTY2O",
        "outputId": "19cc6cc9-6711-4e68-8ced-87d767c3414d"
      },
      "execution_count": 12,
      "outputs": [
        {
          "output_type": "stream",
          "name": "stdout",
          "text": [
            "Token frequencies: [('.', 4), ('of', 3), ('language', 2), ('NLP', 2), ('is', 2), ('a', 2), ('tokenization', 2), ('Natural', 1), ('processing', 1), ('(', 1), (')', 1), ('fascinating', 1), ('area', 1), ('artificial', 1), ('intelligence', 1), ('It', 1), ('involves', 1), ('making', 1), ('sense', 1), ('data', 1), ('Text', 1), ('critical', 1), ('part', 1), ('Through', 1), (',', 1), ('we', 1), ('break', 1), ('down', 1), ('text', 1), ('into', 1), ('individual', 1), ('elements', 1), ('or', 1), ('tokens', 1)]\n"
          ]
        }
      ]
    },
    {
      "cell_type": "code",
      "source": [
        "#####Explanation#####\n",
        "#Tokenization: The word_tokenize function from NLTK breaks down the text into words and punctuation marks.\n",
        "#Token Counting: Counting tokens helps us understand the structure of our text data.\n",
        "#Token Frequency: Using FreqDist, we calculate the occurrence of each token, which can be helpful in identifying common words."
      ],
      "metadata": {
        "id": "SWbzIk8sTekb"
      },
      "execution_count": null,
      "outputs": []
    }
  ]
}